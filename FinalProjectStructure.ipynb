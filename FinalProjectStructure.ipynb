{
 "cells": [
  {
   "cell_type": "markdown",
   "metadata": {},
   "source": [
    "# Final Project "
   ]
  },
  {
   "cell_type": "code",
   "execution_count": 15,
   "metadata": {
    "scrolled": true
   },
   "outputs": [
    {
     "name": "stderr",
     "output_type": "stream",
     "text": [
      "/Users/zoeyzheng/opt/anaconda3/lib/python3.8/site-packages/statsmodels/tsa/base/tsa_model.py:7: FutureWarning: pandas.Int64Index is deprecated and will be removed from pandas in a future version. Use pandas.Index with the appropriate dtype instead.\n",
      "  from pandas import (to_datetime, Int64Index, DatetimeIndex, Period,\n",
      "/Users/zoeyzheng/opt/anaconda3/lib/python3.8/site-packages/statsmodels/tsa/base/tsa_model.py:7: FutureWarning: pandas.Float64Index is deprecated and will be removed from pandas in a future version. Use pandas.Index with the appropriate dtype instead.\n",
      "  from pandas import (to_datetime, Int64Index, DatetimeIndex, Period,\n"
     ]
    }
   ],
   "source": [
    "import numpy as np\n",
    "import matplotlib.pyplot as plt\n",
    "import pandas as pd\n",
    "import math\n",
    "from scipy.stats import norm\n",
    "from tabulate import tabulate\n",
    "import requests\n",
    "import yfinance as yf\n",
    "from datetime import datetime\n",
    "from dateutil.relativedelta import relativedelta\n",
    "from scipy.optimize import minimize\n",
    "from sklearn.linear_model import LinearRegression\n",
    "import scipy.optimize as optimize\n",
    "from scipy.stats import norm\n",
    "import statsmodels.api as sm"
   ]
  },
  {
   "cell_type": "markdown",
   "metadata": {},
   "source": [
    "## Step 1 Data"
   ]
  },
  {
   "cell_type": "code",
   "execution_count": 9,
   "metadata": {},
   "outputs": [],
   "source": [
    "#Self defined parameters \n",
    "N = 1000000\n",
    "T = 3\n",
    "delta = 3\n",
    "k = 1\n",
    "k_prime = 1\n",
    "t = '2015-11-01'\n",
    "days = 252\n",
    "start_date = datetime.strptime(t, '%Y-%m-%d').date() + relativedelta(years=T)\n",
    "end_date = start_date + relativedelta(months=delta)\n",
    "start_date = start_date.strftime('%Y-%m-%d')\n",
    "end_date = end_date.strftime('%Y-%m-%d')"
   ]
  },
  {
   "cell_type": "code",
   "execution_count": 4,
   "metadata": {},
   "outputs": [
    {
     "name": "stderr",
     "output_type": "stream",
     "text": [
      "/Users/zoeyzheng/opt/anaconda3/lib/python3.8/site-packages/openpyxl/styles/stylesheet.py:226: UserWarning: Workbook contains no default style, apply openpyxl's default\n",
      "  warn(\"Workbook contains no default style, apply openpyxl's default\")\n"
     ]
    }
   ],
   "source": [
    "## data source: https://www.newyorkfed.org/markets/reference-rates/sofr-averages-and-index\n",
    "sofr_data = pd.read_excel('SOFR.xlsx')"
   ]
  },
  {
   "cell_type": "code",
   "execution_count": 5,
   "metadata": {},
   "outputs": [
    {
     "name": "stdout",
     "output_type": "stream",
     "text": [
      "[*********************100%***********************]  1 of 1 completed\n"
     ]
    }
   ],
   "source": [
    "stock_data = yf.download('^STOXX50E','2018-11-01','2023-11-01')"
   ]
  },
  {
   "cell_type": "code",
   "execution_count": 6,
   "metadata": {},
   "outputs": [
    {
     "name": "stdout",
     "output_type": "stream",
     "text": [
      "[*********************100%***********************]  1 of 1 completed\n"
     ]
    },
    {
     "data": {
      "text/html": [
       "<div>\n",
       "<style scoped>\n",
       "    .dataframe tbody tr th:only-of-type {\n",
       "        vertical-align: middle;\n",
       "    }\n",
       "\n",
       "    .dataframe tbody tr th {\n",
       "        vertical-align: top;\n",
       "    }\n",
       "\n",
       "    .dataframe thead th {\n",
       "        text-align: right;\n",
       "    }\n",
       "</style>\n",
       "<table border=\"1\" class=\"dataframe\">\n",
       "  <thead>\n",
       "    <tr style=\"text-align: right;\">\n",
       "      <th></th>\n",
       "      <th>Open</th>\n",
       "      <th>High</th>\n",
       "      <th>Low</th>\n",
       "      <th>Close</th>\n",
       "      <th>Adj Close</th>\n",
       "      <th>Volume</th>\n",
       "    </tr>\n",
       "    <tr>\n",
       "      <th>Date</th>\n",
       "      <th></th>\n",
       "      <th></th>\n",
       "      <th></th>\n",
       "      <th></th>\n",
       "      <th></th>\n",
       "      <th></th>\n",
       "    </tr>\n",
       "  </thead>\n",
       "  <tbody>\n",
       "    <tr>\n",
       "      <th>2018-11-01</th>\n",
       "      <td>1.131388</td>\n",
       "      <td>1.141318</td>\n",
       "      <td>1.131375</td>\n",
       "      <td>1.131670</td>\n",
       "      <td>1.131670</td>\n",
       "      <td>0</td>\n",
       "    </tr>\n",
       "    <tr>\n",
       "      <th>2018-11-02</th>\n",
       "      <td>1.140277</td>\n",
       "      <td>1.145541</td>\n",
       "      <td>1.137566</td>\n",
       "      <td>1.140329</td>\n",
       "      <td>1.140329</td>\n",
       "      <td>0</td>\n",
       "    </tr>\n",
       "    <tr>\n",
       "      <th>2018-11-05</th>\n",
       "      <td>1.139705</td>\n",
       "      <td>1.140641</td>\n",
       "      <td>1.135525</td>\n",
       "      <td>1.139757</td>\n",
       "      <td>1.139757</td>\n",
       "      <td>0</td>\n",
       "    </tr>\n",
       "    <tr>\n",
       "      <th>2018-11-06</th>\n",
       "      <td>1.140862</td>\n",
       "      <td>1.143811</td>\n",
       "      <td>1.139328</td>\n",
       "      <td>1.141292</td>\n",
       "      <td>1.141292</td>\n",
       "      <td>0</td>\n",
       "    </tr>\n",
       "    <tr>\n",
       "      <th>2018-11-07</th>\n",
       "      <td>1.144099</td>\n",
       "      <td>1.149994</td>\n",
       "      <td>1.140056</td>\n",
       "      <td>1.143851</td>\n",
       "      <td>1.143851</td>\n",
       "      <td>0</td>\n",
       "    </tr>\n",
       "    <tr>\n",
       "      <th>...</th>\n",
       "      <td>...</td>\n",
       "      <td>...</td>\n",
       "      <td>...</td>\n",
       "      <td>...</td>\n",
       "      <td>...</td>\n",
       "      <td>...</td>\n",
       "    </tr>\n",
       "    <tr>\n",
       "      <th>2023-10-25</th>\n",
       "      <td>1.059535</td>\n",
       "      <td>1.060670</td>\n",
       "      <td>1.056680</td>\n",
       "      <td>1.059535</td>\n",
       "      <td>1.059535</td>\n",
       "      <td>0</td>\n",
       "    </tr>\n",
       "    <tr>\n",
       "      <th>2023-10-26</th>\n",
       "      <td>1.056725</td>\n",
       "      <td>1.056971</td>\n",
       "      <td>1.052632</td>\n",
       "      <td>1.056725</td>\n",
       "      <td>1.056725</td>\n",
       "      <td>0</td>\n",
       "    </tr>\n",
       "    <tr>\n",
       "      <th>2023-10-27</th>\n",
       "      <td>1.056446</td>\n",
       "      <td>1.059771</td>\n",
       "      <td>1.053630</td>\n",
       "      <td>1.056446</td>\n",
       "      <td>1.056446</td>\n",
       "      <td>0</td>\n",
       "    </tr>\n",
       "    <tr>\n",
       "      <th>2023-10-30</th>\n",
       "      <td>1.056245</td>\n",
       "      <td>1.062600</td>\n",
       "      <td>1.054841</td>\n",
       "      <td>1.056245</td>\n",
       "      <td>1.056245</td>\n",
       "      <td>0</td>\n",
       "    </tr>\n",
       "    <tr>\n",
       "      <th>2023-10-31</th>\n",
       "      <td>1.061504</td>\n",
       "      <td>1.066906</td>\n",
       "      <td>1.056759</td>\n",
       "      <td>1.061504</td>\n",
       "      <td>1.061504</td>\n",
       "      <td>0</td>\n",
       "    </tr>\n",
       "  </tbody>\n",
       "</table>\n",
       "<p>1303 rows × 6 columns</p>\n",
       "</div>"
      ],
      "text/plain": [
       "                Open      High       Low     Close  Adj Close  Volume\n",
       "Date                                                                 \n",
       "2018-11-01  1.131388  1.141318  1.131375  1.131670   1.131670       0\n",
       "2018-11-02  1.140277  1.145541  1.137566  1.140329   1.140329       0\n",
       "2018-11-05  1.139705  1.140641  1.135525  1.139757   1.139757       0\n",
       "2018-11-06  1.140862  1.143811  1.139328  1.141292   1.141292       0\n",
       "2018-11-07  1.144099  1.149994  1.140056  1.143851   1.143851       0\n",
       "...              ...       ...       ...       ...        ...     ...\n",
       "2023-10-25  1.059535  1.060670  1.056680  1.059535   1.059535       0\n",
       "2023-10-26  1.056725  1.056971  1.052632  1.056725   1.056725       0\n",
       "2023-10-27  1.056446  1.059771  1.053630  1.056446   1.056446       0\n",
       "2023-10-30  1.056245  1.062600  1.054841  1.056245   1.056245       0\n",
       "2023-10-31  1.061504  1.066906  1.056759  1.061504   1.061504       0\n",
       "\n",
       "[1303 rows x 6 columns]"
      ]
     },
     "execution_count": 6,
     "metadata": {},
     "output_type": "execute_result"
    }
   ],
   "source": [
    "exchange_rate = yf.download('EURUSD=X','2018-11-01','2023-11-01')\n",
    "exchange_rate"
   ]
  },
  {
   "cell_type": "markdown",
   "metadata": {},
   "source": [
    "## Step 2 Simulation Model"
   ]
  },
  {
   "cell_type": "markdown",
   "metadata": {},
   "source": [
    "### Use historical data to calculate $\\delta_f$, $\\delta_x$, $\\rho_{fx}$ and calculate $\\sigma_s$"
   ]
  },
  {
   "cell_type": "code",
   "execution_count": 7,
   "metadata": {},
   "outputs": [],
   "source": [
    "log_returns = np.log(stock_data['Close'] / stock_data['Close'].shift(1))\n",
    "volatility = log_returns.std()\n",
    "delta_f = volatility * np.sqrt(252)\n",
    "\n",
    "log_returns = np.log(exchange_rate['Close'] / exchange_rate['Close'].shift(1))\n",
    "volatility = log_returns.std()\n",
    "delta_x = volatility * np.sqrt(252)\n",
    "\n",
    "aligned_data = stock_data['Close'].align(exchange_rate['Close'], join='inner')\n",
    "\n",
    "stock_returns = np.log(aligned_data[0] / aligned_data[0].shift(1))\n",
    "exchange_rate_returns = np.log(aligned_data[1] / aligned_data[1].shift(1))\n",
    "\n",
    "rho_fx = stock_returns.corr(exchange_rate_returns)\n",
    "\n",
    "sigma_s = (delta_f**2 + delta_x**2 + 2 * delta_f * delta_x * rho_fx)**0.5"
   ]
  },
  {
   "cell_type": "markdown",
   "metadata": {},
   "source": [
    "### Use Vasicek to simulate for SOFR "
   ]
  },
  {
   "cell_type": "code",
   "execution_count": 22,
   "metadata": {},
   "outputs": [
    {
     "data": {
      "image/png": "[encoded data removed]",
      "text/plain": [
       "<Figure size 432x288 with 1 Axes>"
      ]
     },
     "metadata": {
      "needs_background": "light"
     },
     "output_type": "display_data"
    }
   ],
   "source": [
    "sofr_rates = sofr_data['Rate (%)'].copy()\n",
    "\n",
    "changes = sofr_rates.diff().dropna()\n",
    "\n",
    "b = np.mean(sofr_rates)\n",
    "def vasicek_regression(rates, changes, b):\n",
    "    dt = 1/252  # Time increment\n",
    "\n",
    "    # Adjust 'changes' for dt\n",
    "    y = changes.values / np.sqrt(dt)\n",
    "    \n",
    "    X = -1 * (rates[:-1] - b).values.reshape(-1, 1)\n",
    "\n",
    "    model = LinearRegression()\n",
    "    model.fit(X, y)\n",
    "    a = -model.coef_[0]\n",
    "\n",
    "    # Estimate sigma\n",
    "    residuals = y - model.predict(X)\n",
    "    sigma = np.std(residuals) * np.sqrt(dt)  # Adjust sigma for the time increment\n",
    "\n",
    "    return a, sigma, b\n",
    "\n",
    "\n",
    "# Simulate Future SOFR Rates\n",
    "def simulate_vasicek(b, changes, sofr_rates, days=days*T):\n",
    "    dt = 1/252 \n",
    "    rates = [sofr_rates.iloc[-1]]\n",
    "    historical = sofr_rates\n",
    "    for _ in range(days):\n",
    "        a, sigma, b = vasicek_regression(historical, changes, b)\n",
    "        dr = a * (b - rates[-1]) * dt + sigma * np.random.normal() * np.sqrt(dt)\n",
    "        rates.append(rates[-1] + dr)\n",
    "        historical[len(historical)] = rates[-1]\n",
    "        changes = historical.diff().dropna()\n",
    "        \n",
    "\n",
    "    return rates\n",
    "\n",
    "simulated_rates = simulate_vasicek(b, changes, sofr_rates)\n",
    "\n",
    "# Step 5: Plot the Results\n",
    "plt.plot(simulated_rates)\n",
    "plt.title('Simulated SOFR Rates using Vasicek')\n",
    "plt.xlabel('Days')\n",
    "plt.ylabel('SOFR Rate')\n",
    "plt.show()"
   ]
  },
  {
   "cell_type": "markdown",
   "metadata": {},
   "source": [
    "#### Transform daily SOFR to term SOFR "
   ]
  },
  {
   "cell_type": "markdown",
   "metadata": {},
   "source": [
    "### Use CIR to simulate SOFR"
   ]
  },
  {
   "cell_type": "code",
   "execution_count": 23,
   "metadata": {},
   "outputs": [
    {
     "data": {
      "image/png": "[encoded data removed]",
      "text/plain": [
       "<Figure size 432x288 with 1 Axes>"
      ]
     },
     "metadata": {
      "needs_background": "light"
     },
     "output_type": "display_data"
    }
   ],
   "source": [
    "## CIR \n",
    "sofr_rates = sofr_data['Rate (%)'].copy()\n",
    "def param_CIR(historical):\n",
    "    dt = 1/252  # Time increment\n",
    "\n",
    "    # Adjust delta_r calculation to include dt\n",
    "    delta_r = (historical.diff() / (np.sqrt(historical) * np.sqrt(dt))).dropna()\n",
    "\n",
    "    # Calculate the independent variables X1 and X2\n",
    "    X1 = np.full_like(delta_r, 1 / (np.sqrt(historical[:-1]) * np.sqrt(dt)))\n",
    "    X2 = -np.sqrt(historical[:-1])\n",
    "\n",
    "    X = np.column_stack((X1, X2))\n",
    "\n",
    "    # Add a constant to the independent variables\n",
    "    X = sm.add_constant(X)\n",
    "\n",
    "    # Perform the OLS regression\n",
    "    model = sm.OLS(delta_r, X).fit()\n",
    "\n",
    "    # Extracting parameters\n",
    "    ab_est, a_est = model.params[1], -model.params[2]\n",
    "    sigma_est = model.bse[1]\n",
    "\n",
    "    # You would need additional information to separate `a` and `b`\n",
    "    b_est = ab_est / a_est\n",
    "    return a_est, b_est, sigma_est\n",
    "def simulate_CIR(sofr_rates, days=days*T):\n",
    "    dt = 1/252 \n",
    "    rates = [sofr_rates.iloc[-1]]\n",
    "    historical = sofr_rates\n",
    "    for i in range(1, days):\n",
    "        a,b,sigma = param_CIR(historical)\n",
    "        dr = a * (b - rates[-1]) * dt + sigma * np.sqrt(rates[-1]) * np.random.normal() * np.sqrt(dt)\n",
    "        if max(rates[-1] + dr,0) > 0:\n",
    "            rates.append(rates[-1] + dr)\n",
    "            historical[len(historical)] = rates[-1]\n",
    "        \n",
    "\n",
    "    return rates\n",
    "\n",
    "simulated_rates = simulate_CIR(sofr_rates)\n",
    "\n",
    "# Step 5: Plot the Results\n",
    "plt.plot(simulated_rates)\n",
    "plt.title('Simulated SOFR Rates using CIR')\n",
    "plt.xlabel('Days')\n",
    "plt.ylabel('SOFR Rate')\n",
    "plt.show()"
   ]
  },
  {
   "cell_type": "markdown",
   "metadata": {},
   "source": [
    "### Use GBM to simulate interest rate"
   ]
  },
  {
   "cell_type": "code",
   "execution_count": 68,
   "metadata": {
    "scrolled": true
   },
   "outputs": [
    {
     "data": {
      "image/png": "[encoded data removed]",
      "text/plain": [
       "<Figure size 720x432 with 1 Axes>"
      ]
     },
     "metadata": {
      "needs_background": "light"
     },
     "output_type": "display_data"
    }
   ],
   "source": [
    "# Interest Rate simulation\n",
    "interest_0 = 0.02  # Initial interest rate\n",
    "mu_interest = 0.01  # Drift coefficient for interest rate\n",
    "sigma_interest = 0.05  # Volatility coefficient for interest rate\n",
    "days = 252\n",
    "def simulate_gbm(S0, mu, sigma, T, days):\n",
    "    \"\"\"\n",
    "    Simulate a GBM process\n",
    "\n",
    "    :param S0: Initial value\n",
    "    :param mu: Drift\n",
    "    :param sigma: Volatility\n",
    "    :param T: Time\n",
    "    :param days: Number of trading days\n",
    "    :return: GBM\n",
    "    \"\"\"\n",
    "    dt = T / days\n",
    "    t = np.linspace(0, T, days)\n",
    "    W = np.random.standard_normal(size=days)\n",
    "    W = np.cumsum(W) * np.sqrt(dt)  # Standard Brownian motion\n",
    "    X = (mu - 0.5 * sigma ** 2) * t + sigma * W\n",
    "    S = S0 * np.exp(X)  # GBM\n",
    "    return S\n",
    "\n",
    "# Simulating the Interest Rate\n",
    "interest_rate_simulation = simulate_gbm(interest_0, mu_interest, sigma_interest, T, days)\n",
    "\n",
    "# Plotting the simulated Interest Rate\n",
    "plt.figure(figsize=(10, 6))\n",
    "plt.plot(interest_rate_simulation)\n",
    "plt.title(\"Simulated Interest Rate\")\n",
    "plt.xlabel(\"Time Steps\")\n",
    "plt.ylabel(\"Interest Rate\")\n",
    "plt.show()"
   ]
  },
  {
   "cell_type": "markdown",
   "metadata": {},
   "source": [
    "### Calculate $\\frac{S(T)}{S(0)}$ use simulated data"
   ]
  },
  {
   "cell_type": "code",
   "execution_count": 73,
   "metadata": {},
   "outputs": [
    {
     "data": {
      "text/plain": [
       "1.9023995226248667"
      ]
     },
     "execution_count": 73,
     "metadata": {},
     "output_type": "execute_result"
    }
   ],
   "source": [
    "dt = 1/N\n",
    "S0 = 1.336\n",
    "\n",
    "W_T = np.random.normal(0, np.sqrt(T))\n",
    "\n",
    "num_points = days # Number of data points\n",
    "r_d = interest_rate_simulation\n",
    "\n",
    "# Time points for the data series\n",
    "time_points = np.linspace(0, T, num_points)\n",
    "\n",
    "# Numerical integration of r_d(s) over [0, T]\n",
    "integral_r_d = np.trapz(r_d, time_points)\n",
    "\n",
    "# Second term, which simplifies to sigma_s^2 * T / 2\n",
    "integral_sigma_s_squared = 0.5 * sigma_s**2 * T\n",
    "\n",
    "# Third term, which is sigma_s * W_T\n",
    "integral_sigma_s_W_T = sigma_s * W_T\n",
    "\n",
    "# Combine the terms and calculate the exponential\n",
    "variable_value = np.exp(integral_r_d - integral_sigma_s_squared + integral_sigma_s_W_T)\n",
    "variable_value\n"
   ]
  },
  {
   "cell_type": "markdown",
   "metadata": {},
   "source": [
    "## Step 3 Price Calculation with market data"
   ]
  },
  {
   "cell_type": "code",
   "execution_count": null,
   "metadata": {},
   "outputs": [],
   "source": [
    "### price calculation based on real date\n",
    "def calculate_contract_price(N, start_date, end_date, T, Delta, k, Stock_Data, k_prime):\n",
    "    \"\"\"\n",
    "    Calculate the price of the financial contract.\n",
    "\n",
    "    Parameters:\n",
    "    N (float): Notional in USD.\n",
    "    L_0_T_Delta (float): 3-month USD forward rate between T and T + Delta observed at time 0.\n",
    "    T (float): Maturity date in years.\n",
    "    Delta (float): Settlement period in years (usually 0.25 years for 3 months).\n",
    "    k (float): Relative strike price.\n",
    "\n",
    "    Returns:\n",
    "    float: Price of the contract.\n",
    "    \"\"\"\n",
    "    S_0 = Stock_Data['Close'].loc[start_date]\n",
    "    S_T = Stock_Data['Close'].loc[end_date]\n",
    "    ''' \n",
    "    Forward rate calculationo and expectation\n",
    "    L_T = 1\n",
    "    L_0 = 1\n",
    "    '''\n",
    "    # Calculate the payoff at maturity\n",
    "    payoff_at_maturity = max(0, ((k - S_T / S_0) * L_T/ L_0) - k_prime)\n",
    "\n",
    "    # Calculate the contract price\n",
    "    contract_price = N * payoff_at_maturity\n",
    "\n",
    "    return contract_price"
   ]
  },
  {
   "cell_type": "code",
   "execution_count": null,
   "metadata": {},
   "outputs": [],
   "source": []
  }
 ],
 "metadata": {
  "kernelspec": {
   "display_name": "Python 3",
   "language": "python",
   "name": "python3"
  },
  "language_info": {
   "codemirror_mode": {
    "name": "ipython",
    "version": 3
   },
   "file_extension": ".py",
   "mimetype": "text/x-python",
   "name": "python",
   "nbconvert_exporter": "python",
   "pygments_lexer": "ipython3",
   "version": "3.8.5"
  }
 },
 "nbformat": 4,
 "nbformat_minor": 2
}
