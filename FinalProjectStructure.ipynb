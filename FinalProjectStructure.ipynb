{
 "cells": [
  {
   "cell_type": "markdown",
   "metadata": {},
   "source": [
    "# Final Project "
   ]
  },
  {
   "cell_type": "code",
   "execution_count": 1,
   "metadata": {
    "scrolled": true
   },
   "outputs": [
    {
     "name": "stderr",
     "output_type": "stream",
     "text": [
      "/Users/zoeyzheng/.local/lib/python3.8/site-packages/pandas/core/computation/expressions.py:20: UserWarning: Pandas requires version '2.7.3' or newer of 'numexpr' (version '2.7.1' currently installed).\n",
      "  from pandas.core.computation.check import NUMEXPR_INSTALLED\n"
     ]
    }
   ],
   "source": [
    "import numpy as np\n",
    "import matplotlib.pyplot as plt\n",
    "import pandas as pd\n",
    "import math\n",
    "from scipy.stats import norm\n",
    "from tabulate import tabulate\n",
    "import requests\n",
    "import yfinance as yf\n",
    "from datetime import datetime\n",
    "from dateutil.relativedelta import relativedelta\n",
    "from scipy.optimize import minimize\n",
    "from sklearn.linear_model import LinearRegression\n",
    "import scipy.optimize as optimize\n",
    "from scipy.stats import norm\n",
    "import statsmodels.api as sm\n",
    "from pandas_datareader import data"
   ]
  },
  {
   "cell_type": "markdown",
   "metadata": {},
   "source": [
    "## Step 1 Data"
   ]
  },
  {
   "cell_type": "code",
   "execution_count": 2,
   "metadata": {},
   "outputs": [],
   "source": [
    "#Self defined parameters \n",
    "N = 1000000\n",
    "T = 3\n",
    "delta = 3\n",
    "k = 1\n",
    "k_prime = 1\n",
    "t = '2015-11-01'\n",
    "days = 252\n",
    "start_date = datetime.strptime(t, '%Y-%m-%d').date() + relativedelta(years=T)\n",
    "end_date = start_date + relativedelta(months=delta)\n",
    "start_date = start_date.strftime('%Y-%m-%d')\n",
    "end_date = end_date.strftime('%Y-%m-%d')"
   ]
  },
  {
   "cell_type": "code",
   "execution_count": 3,
   "metadata": {},
   "outputs": [
    {
     "name": "stderr",
     "output_type": "stream",
     "text": [
      "/Users/zoeyzheng/opt/anaconda3/lib/python3.8/site-packages/openpyxl/styles/stylesheet.py:226: UserWarning: Workbook contains no default style, apply openpyxl's default\n",
      "  warn(\"Workbook contains no default style, apply openpyxl's default\")\n"
     ]
    }
   ],
   "source": [
    "## data source: https://www.newyorkfed.org/markets/reference-rates/sofr-averages-and-index\n",
    "sofr_data = pd.read_excel('SOFR.xlsx')"
   ]
  },
  {
   "cell_type": "code",
   "execution_count": 4,
   "metadata": {},
   "outputs": [
    {
     "name": "stdout",
     "output_type": "stream",
     "text": [
      "[*********************100%%**********************]  1 of 1 completed\n"
     ]
    }
   ],
   "source": [
    "stock_data = yf.download('^STOXX50E','2018-11-01','2023-11-01')"
   ]
  },
  {
   "cell_type": "code",
   "execution_count": 5,
   "metadata": {},
   "outputs": [
    {
     "name": "stdout",
     "output_type": "stream",
     "text": [
      "[*********************100%%**********************]  1 of 1 completed\n"
     ]
    },
    {
     "data": {
      "text/html": [
       "<div>\n",
       "<style scoped>\n",
       "    .dataframe tbody tr th:only-of-type {\n",
       "        vertical-align: middle;\n",
       "    }\n",
       "\n",
       "    .dataframe tbody tr th {\n",
       "        vertical-align: top;\n",
       "    }\n",
       "\n",
       "    .dataframe thead th {\n",
       "        text-align: right;\n",
       "    }\n",
       "</style>\n",
       "<table border=\"1\" class=\"dataframe\">\n",
       "  <thead>\n",
       "    <tr style=\"text-align: right;\">\n",
       "      <th></th>\n",
       "      <th>Open</th>\n",
       "      <th>High</th>\n",
       "      <th>Low</th>\n",
       "      <th>Close</th>\n",
       "      <th>Adj Close</th>\n",
       "      <th>Volume</th>\n",
       "    </tr>\n",
       "    <tr>\n",
       "      <th>Date</th>\n",
       "      <th></th>\n",
       "      <th></th>\n",
       "      <th></th>\n",
       "      <th></th>\n",
       "      <th></th>\n",
       "      <th></th>\n",
       "    </tr>\n",
       "  </thead>\n",
       "  <tbody>\n",
       "    <tr>\n",
       "      <th>2018-11-01</th>\n",
       "      <td>1.131388</td>\n",
       "      <td>1.141318</td>\n",
       "      <td>1.131375</td>\n",
       "      <td>1.131670</td>\n",
       "      <td>1.131670</td>\n",
       "      <td>0</td>\n",
       "    </tr>\n",
       "    <tr>\n",
       "      <th>2018-11-02</th>\n",
       "      <td>1.140277</td>\n",
       "      <td>1.145541</td>\n",
       "      <td>1.137566</td>\n",
       "      <td>1.140329</td>\n",
       "      <td>1.140329</td>\n",
       "      <td>0</td>\n",
       "    </tr>\n",
       "    <tr>\n",
       "      <th>2018-11-05</th>\n",
       "      <td>1.139705</td>\n",
       "      <td>1.140641</td>\n",
       "      <td>1.135525</td>\n",
       "      <td>1.139757</td>\n",
       "      <td>1.139757</td>\n",
       "      <td>0</td>\n",
       "    </tr>\n",
       "    <tr>\n",
       "      <th>2018-11-06</th>\n",
       "      <td>1.140862</td>\n",
       "      <td>1.143811</td>\n",
       "      <td>1.139328</td>\n",
       "      <td>1.141292</td>\n",
       "      <td>1.141292</td>\n",
       "      <td>0</td>\n",
       "    </tr>\n",
       "    <tr>\n",
       "      <th>2018-11-07</th>\n",
       "      <td>1.144099</td>\n",
       "      <td>1.149994</td>\n",
       "      <td>1.140056</td>\n",
       "      <td>1.143851</td>\n",
       "      <td>1.143851</td>\n",
       "      <td>0</td>\n",
       "    </tr>\n",
       "    <tr>\n",
       "      <th>...</th>\n",
       "      <td>...</td>\n",
       "      <td>...</td>\n",
       "      <td>...</td>\n",
       "      <td>...</td>\n",
       "      <td>...</td>\n",
       "      <td>...</td>\n",
       "    </tr>\n",
       "    <tr>\n",
       "      <th>2023-10-25</th>\n",
       "      <td>1.059535</td>\n",
       "      <td>1.060670</td>\n",
       "      <td>1.056680</td>\n",
       "      <td>1.059535</td>\n",
       "      <td>1.059535</td>\n",
       "      <td>0</td>\n",
       "    </tr>\n",
       "    <tr>\n",
       "      <th>2023-10-26</th>\n",
       "      <td>1.056725</td>\n",
       "      <td>1.056971</td>\n",
       "      <td>1.052632</td>\n",
       "      <td>1.056725</td>\n",
       "      <td>1.056725</td>\n",
       "      <td>0</td>\n",
       "    </tr>\n",
       "    <tr>\n",
       "      <th>2023-10-27</th>\n",
       "      <td>1.056446</td>\n",
       "      <td>1.059771</td>\n",
       "      <td>1.053630</td>\n",
       "      <td>1.056446</td>\n",
       "      <td>1.056446</td>\n",
       "      <td>0</td>\n",
       "    </tr>\n",
       "    <tr>\n",
       "      <th>2023-10-30</th>\n",
       "      <td>1.056245</td>\n",
       "      <td>1.062600</td>\n",
       "      <td>1.054841</td>\n",
       "      <td>1.056245</td>\n",
       "      <td>1.056245</td>\n",
       "      <td>0</td>\n",
       "    </tr>\n",
       "    <tr>\n",
       "      <th>2023-10-31</th>\n",
       "      <td>1.061504</td>\n",
       "      <td>1.066906</td>\n",
       "      <td>1.056759</td>\n",
       "      <td>1.061504</td>\n",
       "      <td>1.061504</td>\n",
       "      <td>0</td>\n",
       "    </tr>\n",
       "  </tbody>\n",
       "</table>\n",
       "<p>1303 rows × 6 columns</p>\n",
       "</div>"
      ],
      "text/plain": [
       "                Open      High       Low     Close  Adj Close  Volume\n",
       "Date                                                                 \n",
       "2018-11-01  1.131388  1.141318  1.131375  1.131670   1.131670       0\n",
       "2018-11-02  1.140277  1.145541  1.137566  1.140329   1.140329       0\n",
       "2018-11-05  1.139705  1.140641  1.135525  1.139757   1.139757       0\n",
       "2018-11-06  1.140862  1.143811  1.139328  1.141292   1.141292       0\n",
       "2018-11-07  1.144099  1.149994  1.140056  1.143851   1.143851       0\n",
       "...              ...       ...       ...       ...        ...     ...\n",
       "2023-10-25  1.059535  1.060670  1.056680  1.059535   1.059535       0\n",
       "2023-10-26  1.056725  1.056971  1.052632  1.056725   1.056725       0\n",
       "2023-10-27  1.056446  1.059771  1.053630  1.056446   1.056446       0\n",
       "2023-10-30  1.056245  1.062600  1.054841  1.056245   1.056245       0\n",
       "2023-10-31  1.061504  1.066906  1.056759  1.061504   1.061504       0\n",
       "\n",
       "[1303 rows x 6 columns]"
      ]
     },
     "execution_count": 5,
     "metadata": {},
     "output_type": "execute_result"
    }
   ],
   "source": [
    "exchange_rate = yf.download('EURUSD=X','2018-11-01','2023-11-01')\n",
    "exchange_rate"
   ]
  },
  {
   "cell_type": "markdown",
   "metadata": {},
   "source": [
    "## Step 2 Simulation Model"
   ]
  },
  {
   "cell_type": "markdown",
   "metadata": {},
   "source": [
    "### Use historical data to calculate $\\delta_f$, $\\delta_x$, $\\rho_{fx}$ and calculate $\\sigma_s$"
   ]
  },
  {
   "cell_type": "code",
   "execution_count": 6,
   "metadata": {},
   "outputs": [],
   "source": [
    "log_returns = np.log(stock_data['Close'] / stock_data['Close'].shift(1))\n",
    "volatility = log_returns.std()\n",
    "delta_f = volatility * np.sqrt(252)\n",
    "\n",
    "log_returns = np.log(exchange_rate['Close'] / exchange_rate['Close'].shift(1))\n",
    "volatility = log_returns.std()\n",
    "delta_x = volatility * np.sqrt(252)\n",
    "\n",
    "aligned_data = stock_data['Close'].align(exchange_rate['Close'], join='inner')\n",
    "\n",
    "stock_returns = np.log(aligned_data[0] / aligned_data[0].shift(1))\n",
    "exchange_rate_returns = np.log(aligned_data[1] / aligned_data[1].shift(1))\n",
    "\n",
    "rho_fx = stock_returns.corr(exchange_rate_returns)\n",
    "\n",
    "sigma_s = (delta_f**2 + delta_x**2 + 2 * delta_f * delta_x * rho_fx)**0.5"
   ]
  },
  {
   "cell_type": "markdown",
   "metadata": {},
   "source": [
    "### Use Vasicek to simulate for SOFR "
   ]
  },
  {
   "cell_type": "code",
   "execution_count": 7,
   "metadata": {},
   "outputs": [
    {
     "data": {
      "image/png": "[encoded data removed]",
      "text/plain": [
       "<Figure size 432x288 with 1 Axes>"
      ]
     },
     "metadata": {
      "needs_background": "light"
     },
     "output_type": "display_data"
    }
   ],
   "source": [
    "sofr_rates = sofr_data['Rate (%)'].copy()\n",
    "\n",
    "changes = sofr_rates.diff().dropna()\n",
    "\n",
    "b = np.mean(sofr_rates)\n",
    "def vasicek_regression(rates, changes, b):\n",
    "    dt = 1/252  # Time increment\n",
    "\n",
    "    # Adjust 'changes' for dt\n",
    "    y = changes.values / np.sqrt(dt)\n",
    "    \n",
    "    X = -1 * (rates[:-1] - b).values.reshape(-1, 1)\n",
    "\n",
    "    model = LinearRegression()\n",
    "    model.fit(X, y)\n",
    "    a = -model.coef_[0]\n",
    "\n",
    "    # Estimate sigma\n",
    "    residuals = y - model.predict(X)\n",
    "    sigma = np.std(residuals) * np.sqrt(dt)  # Adjust sigma for the time increment\n",
    "\n",
    "    return a, sigma, b\n",
    "\n",
    "\n",
    "# Simulate Future SOFR Rates\n",
    "def simulate_vasicek(b, changes, sofr_rates, days=days*T):\n",
    "    dt = 1/252 \n",
    "    rates = [sofr_rates.iloc[-1]]\n",
    "    historical = sofr_rates\n",
    "    for _ in range(days):\n",
    "        a, sigma, b = vasicek_regression(historical, changes, b)\n",
    "        dr = a * (b - rates[-1]) * dt + sigma * np.random.normal() * np.sqrt(dt)\n",
    "        rates.append(rates[-1] + dr)\n",
    "        historical[len(historical)] = rates[-1]\n",
    "        changes = historical.diff().dropna()\n",
    "        \n",
    "\n",
    "    return rates\n",
    "\n",
    "simulated_rates = simulate_vasicek(b, changes, sofr_rates)\n",
    "\n",
    "# Step 5: Plot the Results\n",
    "plt.plot(simulated_rates)\n",
    "plt.title('Simulated SOFR Rates using Vasicek')\n",
    "plt.xlabel('Days')\n",
    "plt.ylabel('SOFR Rate')\n",
    "plt.show()"
   ]
  },
  {
   "cell_type": "markdown",
   "metadata": {},
   "source": [
    "#### Transform daily SOFR to term SOFR "
   ]
  },
  {
   "cell_type": "markdown",
   "metadata": {},
   "source": [
    "### Use CIR to simulate SOFR"
   ]
  },
  {
   "cell_type": "code",
   "execution_count": 8,
   "metadata": {},
   "outputs": [
    {
     "data": {
      "image/png": "[encoded data removed]",
      "text/plain": [
       "<Figure size 432x288 with 1 Axes>"
      ]
     },
     "metadata": {
      "needs_background": "light"
     },
     "output_type": "display_data"
    }
   ],
   "source": [
    "## CIR \n",
    "sofr_rates = sofr_data['Rate (%)'].copy()\n",
    "def param_CIR(historical):\n",
    "    dt = 1/252  # Time increment\n",
    "\n",
    "    # Adjust delta_r calculation to include dt\n",
    "    delta_r = (historical.diff() / (np.sqrt(historical) * np.sqrt(dt))).dropna()\n",
    "\n",
    "    # Calculate the independent variables X1 and X2\n",
    "    X1 = np.full_like(delta_r, 1 / (np.sqrt(historical[:-1]) * np.sqrt(dt)))\n",
    "    X2 = -np.sqrt(historical[:-1])\n",
    "\n",
    "    X = np.column_stack((X1, X2))\n",
    "\n",
    "    # Add a constant to the independent variables\n",
    "    X = sm.add_constant(X)\n",
    "\n",
    "    # Perform the OLS regression\n",
    "    model = sm.OLS(delta_r, X).fit()\n",
    "\n",
    "    # Extracting parameters\n",
    "    ab_est, a_est = model.params[1], -model.params[2]\n",
    "    sigma_est = model.bse[1]\n",
    "\n",
    "    # You would need additional information to separate `a` and `b`\n",
    "    b_est = ab_est / a_est\n",
    "    return a_est, b_est, sigma_est\n",
    "def simulate_CIR(sofr_rates, days=days*T):\n",
    "    dt = 1/252 \n",
    "    rates = [sofr_rates.iloc[-1]]\n",
    "    historical = sofr_rates\n",
    "    for i in range(1, days):\n",
    "        a,b,sigma = param_CIR(historical)\n",
    "        dr = a * (b - rates[-1]) * dt + sigma * np.sqrt(rates[-1]) * np.random.normal() * np.sqrt(dt)\n",
    "        if max(rates[-1] + dr,0) > 0:\n",
    "            rates.append(rates[-1] + dr)\n",
    "            historical[len(historical)] = rates[-1]\n",
    "        \n",
    "\n",
    "    return rates\n",
    "\n",
    "simulated_rates = simulate_CIR(sofr_rates)\n",
    "\n",
    "# Step 5: Plot the Results\n",
    "plt.plot(simulated_rates)\n",
    "plt.title('Simulated SOFR Rates using CIR')\n",
    "plt.xlabel('Days')\n",
    "plt.ylabel('SOFR Rate')\n",
    "plt.show()"
   ]
  },
  {
   "cell_type": "markdown",
   "metadata": {},
   "source": [
    "### Use GBM to simulate interest rate"
   ]
  },
  {
   "cell_type": "code",
   "execution_count": 9,
   "metadata": {
    "scrolled": true
   },
   "outputs": [
    {
     "data": {
      "image/png": "[encoded data removed]",
      "text/plain": [
       "<Figure size 720x432 with 1 Axes>"
      ]
     },
     "metadata": {
      "needs_background": "light"
     },
     "output_type": "display_data"
    }
   ],
   "source": [
    "# Interest Rate simulation\n",
    "interest_0 = 0.02  # Initial interest rate\n",
    "mu_interest = 0.01  # Drift coefficient for interest rate\n",
    "sigma_interest = 0.05  # Volatility coefficient for interest rate\n",
    "days = 252\n",
    "def simulate_gbm(S0, mu, sigma, T, days):\n",
    "    \"\"\"\n",
    "    Simulate a GBM process\n",
    "\n",
    "    :param S0: Initial value\n",
    "    :param mu: Drift\n",
    "    :param sigma: Volatility\n",
    "    :param T: Time\n",
    "    :param days: Number of trading days\n",
    "    :return: GBM\n",
    "    \"\"\"\n",
    "    dt = T / days\n",
    "    t = np.linspace(0, T, days)\n",
    "    W = np.random.standard_normal(size=days)\n",
    "    W = np.cumsum(W) * np.sqrt(dt)  # Standard Brownian motion\n",
    "    X = (mu - 0.5 * sigma ** 2) * t + sigma * W\n",
    "    S = S0 * np.exp(X)  # GBM\n",
    "    return S\n",
    "\n",
    "# Simulating the Interest Rate\n",
    "interest_rate_simulation = simulate_gbm(interest_0, mu_interest, sigma_interest, T, days)\n",
    "\n",
    "# Plotting the simulated Interest Rate\n",
    "plt.figure(figsize=(10, 6))\n",
    "plt.plot(interest_rate_simulation)\n",
    "plt.title(\"Simulated Interest Rate\")\n",
    "plt.xlabel(\"Time Steps\")\n",
    "plt.ylabel(\"Interest Rate\")\n",
    "plt.show()"
   ]
  },
  {
   "cell_type": "markdown",
   "metadata": {},
   "source": [
    "### Calculate $\\frac{S(T)}{S(0)}$ use simulated data"
   ]
  },
  {
   "cell_type": "code",
   "execution_count": 10,
   "metadata": {},
   "outputs": [
    {
     "data": {
      "text/plain": [
       "0.8592525831407841"
      ]
     },
     "execution_count": 10,
     "metadata": {},
     "output_type": "execute_result"
    }
   ],
   "source": [
    "dt = 1/N\n",
    "S0 = 1.336\n",
    "\n",
    "W_T = np.random.normal(0, np.sqrt(T))\n",
    "\n",
    "num_points = days # Number of data points\n",
    "r_d = interest_rate_simulation\n",
    "\n",
    "# Time points for the data series\n",
    "time_points = np.linspace(0, T, num_points)\n",
    "\n",
    "# Numerical integration of r_d(s) over [0, T]\n",
    "integral_r_d = np.trapz(r_d, time_points)\n",
    "\n",
    "# Second term, which simplifies to sigma_s^2 * T / 2\n",
    "integral_sigma_s_squared = 0.5 * sigma_s**2 * T\n",
    "\n",
    "# Third term, which is sigma_s * W_T\n",
    "integral_sigma_s_W_T = sigma_s * W_T\n",
    "\n",
    "# Combine the terms and calculate the exponential\n",
    "variable_value = np.exp(integral_r_d - integral_sigma_s_squared + integral_sigma_s_W_T)\n",
    "variable_value\n"
   ]
  },
  {
   "cell_type": "markdown",
   "metadata": {},
   "source": [
    "## Step 3 Price Calculation with market data"
   ]
  },
  {
   "cell_type": "code",
   "execution_count": 11,
   "metadata": {},
   "outputs": [],
   "source": [
    "### price calculation based on real date\n",
    "def calculate_contract_price(N, start_date, end_date, T, Delta, k, Stock_Data, k_prime):\n",
    "    \"\"\"\n",
    "    Calculate the price of the financial contract.\n",
    "\n",
    "    Parameters:\n",
    "    N (float): Notional in USD.\n",
    "    L_0_T_Delta (float): 3-month USD forward rate between T and T + Delta observed at time 0.\n",
    "    T (float): Maturity date in years.\n",
    "    Delta (float): Settlement period in years (usually 0.25 years for 3 months).\n",
    "    k (float): Relative strike price.\n",
    "\n",
    "    Returns:\n",
    "    float: Price of the contract.\n",
    "    \"\"\"\n",
    "    S_0 = Stock_Data['Close'].loc[start_date]\n",
    "    S_T = Stock_Data['Close'].loc[end_date]\n",
    "    ''' \n",
    "    Forward rate calculationo and expectation\n",
    "    L_T = 1\n",
    "    L_0 = 1\n",
    "    '''\n",
    "    # Calculate the payoff at maturity\n",
    "    payoff_at_maturity = max(0, ((k - S_T / S_0) * L_T/ L_0) - k_prime)\n",
    "\n",
    "    # Calculate the contract price\n",
    "    contract_price = N * payoff_at_maturity\n",
    "\n",
    "    return contract_price"
   ]
  },
  {
   "cell_type": "markdown",
   "metadata": {},
   "source": [
    "# By LRY"
   ]
  },
  {
   "cell_type": "markdown",
   "metadata": {},
   "source": [
    "### calib.py"
   ]
  },
  {
   "cell_type": "code",
   "execution_count": 12,
   "metadata": {},
   "outputs": [
    {
     "name": "stdout",
     "output_type": "stream",
     "text": [
      "[*********************100%%**********************]  1 of 1 completed\n",
      "[*********************100%%**********************]  1 of 1 completed\n"
     ]
    }
   ],
   "source": [
    "import numpy as np\n",
    "import matplotlib.pyplot as plt\n",
    "import pandas as pd\n",
    "import math\n",
    "from scipy.stats import norm\n",
    "from tabulate import tabulate\n",
    "import requests\n",
    "import yfinance as yf\n",
    "from datetime import datetime\n",
    "from dateutil.relativedelta import relativedelta\n",
    "from scipy.optimize import minimize\n",
    "from sklearn.linear_model import LinearRegression\n",
    "import scipy.optimize as optimize\n",
    "from scipy.stats import norm\n",
    "import statsmodels.api as sm\n",
    "from statsmodels.regression.rolling import RollingOLS\n",
    "\n",
    "def read_sofr(ma_w = 90,ma=False):\n",
    "    sofr_data = pd.read_excel('SOFR.xlsx')\n",
    "    sofr_rates = sofr_data[['Rate (%)']]/100\n",
    "    sofr_rates.loc[:,\"dr\"] = sofr_rates.loc[:,'Rate (%)'].diff()\n",
    "    sofr_rates.rename(columns={'Rate (%)':\"r\"}, inplace=True)\n",
    "    if ma:\n",
    "        sofr_rates = sofr_rates.rolling(ma_w).mean().dropna()\n",
    "        sofr_rates.loc[:,\"dr\"] = sofr_rates.loc[:,\"r\"].diff()\n",
    "    return sofr_rates.dropna()\n",
    "\n",
    "def read_stock():\n",
    "    stock_data = yf.download('^STOXX50E','2018-11-01','2023-11-01')\n",
    "    exchange_rate = yf.download('EURUSD=X','2018-11-01','2023-11-01')\n",
    "    return stock_data, exchange_rate\n",
    "\n",
    "def calibrate_quanto():\n",
    "    stock_data, exchange_rate = read_stock()\n",
    "    delta_f = stock_data[\"Close\"].apply(np.log).diff().std() * np.sqrt(252)\n",
    "    delta_x = exchange_rate[\"Close\"].apply(np.log).diff().std() * np.sqrt(252)\n",
    "    aligned_data = pd.merge(\n",
    "        stock_data['Close'], exchange_rate['Close'], \n",
    "        how=\"inner\", left_index=True, right_index=True)\n",
    "    logret = aligned_data.apply(np.log).diff()\n",
    "\n",
    "    rho_fx = logret.corr().values[0,1]\n",
    "    sigma_s = (delta_f**2 + delta_x**2 + 2 * delta_f * delta_x * rho_fx)**0.5\n",
    "    return sigma_s\n",
    "\n",
    "def vasicek_regression_rol(df, dt=1/252, W=100):\n",
    "    rate_colname = 'r'\n",
    "    change_colname = \"dr\"\n",
    "    X = df.loc[:, [rate_colname]]\n",
    "    y = df.loc[:, change_colname]\n",
    "    X = sm.add_constant(X)\n",
    "    rols = RollingOLS(y, X, window=W)\n",
    "    rres = rols.fit()\n",
    "    params = rres.params.copy()\n",
    "    params.loc[:,\"b\"] = params[\"const\"] / dt\n",
    "    params.loc[:,\"a\"] = -params[rate_colname] / dt\n",
    "    params.loc[:,\"sigma\"] = np.sqrt(rres.mse_resid / dt)\n",
    "    return params.loc[:,[\"a\",\"b\",\"sigma\"]].dropna()\n",
    "\n",
    "def cir_regression_rol(df, dt=1/252, W=100):\n",
    "    rate_colname = 'r'\n",
    "    change_colname = \"dr\"\n",
    "    b1 = \"sqrt(r)\"\n",
    "    b2 = \"1/sqrt(r)\"\n",
    "    X = df.copy()\n",
    "    X.loc[:,b1] = df.loc[:,rate_colname]**(1/2)\n",
    "    X.loc[:,b2] = 1 / X.loc[:,b1]\n",
    "    y = X.loc[:, change_colname] / X.loc[:,b2]\n",
    "    X = X.loc[:,[b1, b2]]\n",
    "    rols = RollingOLS(y, X, window=W)\n",
    "    rres = rols.fit()\n",
    "    params = rres.params.copy()\n",
    "    params.loc[:,\"a\"] = -params[b1] / dt\n",
    "    params.loc[:,\"b\"] = params[b2] /params.loc[:,\"a\"]/ dt\n",
    "    params.loc[:,\"sigma\"] = np.sqrt(rres.mse_resid / dt)\n",
    "    return params.loc[:,[\"a\",\"b\",\"sigma\"]].dropna()\n",
    "\n",
    "def calibrate(df, dt=1/252, W=200, model=\"vasicek\"):\n",
    "    if model == \"vasicek\":\n",
    "        return vasicek_regression_rol(df, dt, W)\n",
    "    elif model == \"cir\":\n",
    "        return cir_regression_rol(df, dt, W)\n",
    "    else:\n",
    "        raise NotImplementedError\n",
    "\n",
    "\n",
    "sigma_s = calibrate_quanto()"
   ]
  },
  {
   "cell_type": "markdown",
   "metadata": {},
   "source": [
    "### sim.py"
   ]
  },
  {
   "cell_type": "code",
   "execution_count": 13,
   "metadata": {},
   "outputs": [
    {
     "name": "stdout",
     "output_type": "stream",
     "text": [
      "L1: [-0.38570984 -0.14295279  0.22003398  0.10611002  0.21331302  0.10768488\n",
      "  0.21856938  0.3257168  -0.11073715  0.40582255  0.28156169  0.58647597\n",
      "  0.45083026  0.38506965  0.27280834  0.29263505 -0.11292332  0.10427678\n",
      "  0.03272406 -0.01390979  0.21555805 -0.27249561 -0.22399786  0.09451925\n",
      " -0.05801996  0.08173346 -0.08298651 -0.14403574 -0.11112058  0.2075646\n",
      "  0.09479729 -0.12199337  0.11702983  0.24915439 -0.27832769 -0.14545989\n",
      " -0.28814982  0.12430579  0.25093108 -0.22432485  0.10475258 -0.00793357\n",
      "  0.22025713  0.07711086  0.17256062  0.03750394 -0.03048359  0.27008802\n",
      " -0.0947541  -0.24383084 -0.17570901  0.22516426  0.29283816 -0.02810651\n",
      "  0.08821514 -0.11731053  0.22252733 -0.1306023  -0.00407554 -0.05127572\n",
      " -0.05743865  0.00710768  0.3031899   0.0077895  -0.09536444 -0.35682309\n",
      "  0.0781201  -0.21401959 -0.0239593   0.21163618  0.25831364  0.09819558\n",
      "  0.4918512  -0.18900033  0.05196136  0.12466738  0.40806348 -0.17763321\n",
      "  0.11559194  0.2938477   0.16864556  0.28599197 -0.16936329 -0.00423265\n",
      "  0.09254547 -0.15155241  0.12266277  0.3052353   0.00902535  0.4040744\n",
      " -0.17642652  0.40654341  0.24811235 -0.15222241  0.05040736  0.35700516\n",
      "  0.17417878  0.16026849  0.03512939  0.36301462]\n",
      "L2: [-0.38570984 -0.14295279  0.22003398  0.10611002  0.21331302  0.10768488\n",
      "  0.21856938  0.3257168  -0.11073715  0.40582255  0.28156169  0.58647597\n",
      "  0.45083026  0.38506965  0.27280834  0.29263505 -0.11292332  0.10427678\n",
      "  0.03272406 -0.01390979  0.21555805 -0.27249561 -0.22399786  0.09451925\n",
      " -0.05801996  0.08173346 -0.08298651 -0.14403574 -0.11112058  0.2075646\n",
      "  0.09479729 -0.12199337  0.11702983  0.24915439 -0.27832769 -0.14545989\n",
      " -0.28814982  0.12430579  0.25093108 -0.22432485  0.10475258 -0.00793357\n",
      "  0.22025713  0.07711086  0.17256062  0.03750394 -0.03048359  0.27008802\n",
      " -0.0947541  -0.24383084 -0.17570901  0.22516426  0.29283816 -0.02810651\n",
      "  0.08821514 -0.11731053  0.22252733 -0.1306023  -0.00407554 -0.05127572\n",
      " -0.05743865  0.00710768  0.3031899   0.0077895  -0.09536444 -0.35682309\n",
      "  0.0781201  -0.21401959 -0.0239593   0.21163618  0.25831364  0.09819558\n",
      "  0.4918512  -0.18900033  0.05196136  0.12466738  0.40806348 -0.17763321\n",
      "  0.11559194  0.2938477   0.16864556  0.28599197 -0.16936329 -0.00423265\n",
      "  0.09254547 -0.15155241  0.12266277  0.3052353   0.00902535  0.4040744\n",
      " -0.17642652  0.40654341  0.24811235 -0.15222241  0.05040736  0.35700516\n",
      "  0.17417878  0.16026849  0.03512939  0.36301462]\n",
      "Method 1 result: 0.9999999999999973\n",
      "Method 2 result: 1.0004052787050959\n",
      "Total runtime: 0.7308850288391113\n"
     ]
    }
   ],
   "source": [
    "def bond_price_vasicek(\n",
    "    a:float,\n",
    "    b:float,\n",
    "    sigma:float,\n",
    "    T:int=1,\n",
    "    r0:float=0.02,\n",
    "    **kwargs\n",
    "):  \n",
    "    \"\"\"Computes Vasicek bond price using Ricatti ODE\"\"\"\n",
    "    # use A() and B() in Ricatti ODEs\n",
    "    B = (1 - np.exp(-a*T)) / a\n",
    "    A = (b/a - (sigma*sigma)/(2*a*a)) * (B - T) - (sigma * sigma * B * B) / (4 * a)\n",
    "    return np.exp(A - B * r0)\n",
    "\n",
    "def bond_price(\n",
    "    r:np.ndarray,\n",
    "    t:float=0.,\n",
    "    maturity:float=1.,\n",
    "    dt:float=1e-2,\n",
    "    **kwargs\n",
    "):\n",
    "    \"\"\"computes bond price vector using short rate samples\"\"\"\n",
    "    debug = False\n",
    "    if r.shape[1] < int(maturity // dt)+1:\n",
    "        raise RuntimeError(\n",
    "            (\"Incorrect input shape. Number of time points \"\n",
    "             \"must be sufficient for passsed time increment size.\"\n",
    "             f\"Minimum: {int(maturity//dt)+1}. Passed: {r.shape[1]}.\")\n",
    "        )\n",
    "    r_horizon = r[:, round(t / dt):round(maturity/dt)+1]\n",
    "    if debug:\n",
    "        print(\"Orignal r shape:\", r.shape)\n",
    "        print(\"Passed time period:\", f\"t={t}, maturity={maturity}\")\n",
    "        print(\"Result time horizon shape:\", r_horizon.shape)\n",
    "    return np.exp(-(r_horizon * dt).sum(axis = 1))\n",
    "\n",
    "def forward_term_rate(\n",
    "    r:np.ndarray,\n",
    "    t:float=0,\n",
    "    accr_start:float=3.,\n",
    "    accr_length:float=0.25,\n",
    "    dt:float=1e-4,\n",
    "    **kwargs\n",
    "):\n",
    "    \"\"\"computes forward term rate vector using short rate samples\"\"\"\n",
    "    b1 = bond_price(r, t, accr_start, dt=dt, **kwargs) \n",
    "    b2 = bond_price(r, t, accr_start+accr_length, dt=dt, **kwargs)\n",
    "    return (b1 - b2) / (accr_length * b2)\n",
    "\n",
    "def forward_term_rate_ratio(\n",
    "    r:np.ndarray,\n",
    "    t:float=0.,\n",
    "    accr_start:float=3.,\n",
    "    accr_length:float=0.25,\n",
    "    dt:float=1e-4,\n",
    "    **kwargs\n",
    "):\n",
    "    \"\"\"This is the L(T,T,T+D) / L(0,T,T+D) ratio in the T-claim.\n",
    "    The expression is simplified for optimized computation.\n",
    "    \"\"\"\n",
    "    b1 = bond_price(r, accr_start, accr_start+accr_length, dt=dt, **kwargs) \n",
    "    b2 = bond_price(r, t, accr_start, dt=dt, **kwargs)\n",
    "    b3 = bond_price(r, t, accr_start+accr_length, dt=dt, **kwargs)\n",
    "    return (1 - b1) / (b2 - b3) * b3 / b1\n",
    "\n",
    "def sim_vasicek(\n",
    "    a:float,\n",
    "    b:float,\n",
    "    sigma:float,\n",
    "    n:int=1000,\n",
    "    T:int=1,\n",
    "    dt:float=1e-2,\n",
    "    r0:float=0.02,\n",
    "    **kwargs\n",
    "):\n",
    "    \"\"\"Simulate Vasicek short rate using Gaussian.\n",
    "    \n",
    "    Model: dr = (b-ar)dt + sigma*dW\n",
    "    \"\"\"\n",
    "    m = int(T / dt)\n",
    "    sqrt_dt = np.sqrt(dt)\n",
    "    dr = np.zeros((n, m))\n",
    "    r = np.zeros((n, m+1))\n",
    "    r[:,0] = r0\n",
    "    Z = np.random.randn(n, m)\n",
    "    for t in range(m):\n",
    "        inc = b - a * r[:,t]\n",
    "        np.copyto(dr[:,t], dt * inc + sigma * Z[:,t] * sqrt_dt)\n",
    "        np.copyto(r[:,t+1], r[:,t] + dr[:,t])\n",
    "    return r\n",
    "\n",
    "def sim_cir(\n",
    "    a:float,\n",
    "    b:float,\n",
    "    sigma:float,\n",
    "    n:int=1000,\n",
    "    T:int=1,\n",
    "    dt:float=1e-2,\n",
    "    r0:float=0.02,\n",
    "    **kwargs\n",
    "):\n",
    "    \"\"\"Simulate CIR short rate using Gaussian.\n",
    "\n",
    "    Model: dr = a(b-r)dt + sigma*\\sqrt{r}dW\n",
    "    \"\"\" \n",
    "    m = int(T / dt)\n",
    "    sqrt_dt = np.sqrt(dt)\n",
    "    dr = np.zeros((n, m))\n",
    "    r = np.zeros((n, m+1))\n",
    "    r[:,0] = r0\n",
    "    Z = np.random.randn(n, m)\n",
    "    for t in range(m):\n",
    "        inc = a * (b - r[:,t])\n",
    "        np.copyto(dr[:,t], dt * inc + sigma * Z[:,t] * sqrt_dt * np.sqrt(r[:,t]))\n",
    "        np.copyto(r[:,t+1], r[:,t] + dr[:,t])\n",
    "    return r\n",
    "\n",
    "def sim_dothan(\n",
    "    a: float,\n",
    "    sigma:float,\n",
    "    n:int=1000,\n",
    "    T:int=1,\n",
    "    dt:float=1e-2,\n",
    "    r0:float=0.02,\n",
    "    **kwargs\n",
    "):\n",
    "    \"\"\"Simulate Dothan short rate using Gaussian.\n",
    "\n",
    "    Model: dr/r = a*dt + sigma*dW\n",
    "    \"\"\"\n",
    "    m = int(T / dt)\n",
    "    sqrt_dt = np.sqrt(dt)\n",
    "    dr = np.zeros((n, m))\n",
    "    r = np.zeros((n, m+1))\n",
    "    r[:,0] = r0\n",
    "    Z = np.random.randn(n, m)\n",
    "    dr = a * dt + sigma * sqrt_dt * Z\n",
    "    r[:, 1:] = dr.cumsum(axis = 1) + r0\n",
    "    return r\n",
    "\n",
    "\n",
    "def sim_short_rate(\n",
    "    kind = \"vasicek\",\n",
    "    **kwargs\n",
    "):\n",
    "    if kind == \"vasicek\":\n",
    "        return sim_vasicek(**kwargs)\n",
    "    elif kind == \"cir\":\n",
    "        return sim_cir(**kwargs)\n",
    "    elif kind == \"dothan\":\n",
    "        return sim_dothan(**kwargs)\n",
    "    else:\n",
    "        return NotImplementedError\n",
    "    \n",
    "def eval_quanto(r_d, sigma_s, dt=1/252):\n",
    "    # Extract short rate sample shape\n",
    "    num_samples, num_points = r_d.shape\n",
    "    T = (num_points-1) * dt\n",
    "\n",
    "    # Time points for the data series\n",
    "    time_points = np.linspace(0, T, num_points)\n",
    "\n",
    "    # Numerical integration of r_d(s) over [0, T]\n",
    "    integral_r_d = np.trapz(r_d, time_points)\n",
    "\n",
    "    # Second term, which simplifies to sigma_s^2 * T / 2\n",
    "    integral_sigma_s_squared = 0.5 * sigma_s**2 * T\n",
    "\n",
    "    # Third term, which is sigma_s * W_T\n",
    "    integral_sigma_s_W_T = sigma_s * np.random.randn(num_samples)\n",
    "\n",
    "    # Evaluate final value\n",
    "    quanto_ratio_sample = np.exp(\n",
    "        integral_r_d - integral_sigma_s_squared + integral_sigma_s_W_T\n",
    "    )\n",
    "    return quanto_ratio_sample\n",
    "\n",
    "if __name__ == \"__main__\":\n",
    "    import time\n",
    "    params = {\n",
    "        \"a\": 0.5,\n",
    "        \"b\": 0.04,\n",
    "        \"sigma\": 0.2,\n",
    "        \"n\":100,\n",
    "        \"t\":1.5,\n",
    "        \"T\":5.,\n",
    "        \"maturity\": 2.25,\n",
    "        \"dt\":1e-4,\n",
    "        \"r0\":0.02\n",
    "    }\n",
    "    start = time.time()\n",
    "    r = sim_short_rate(kind=\"vasicek\", **params)\n",
    "    L1 = forward_term_rate(\n",
    "        r=r, t=3., accr_start=3., accr_length=0.25, dt = 1e-4\n",
    "    )\n",
    "    L2 = forward_term_rate(\n",
    "        r=r, t=0., accr_start=3., accr_length=0.25, dt = 1e-4\n",
    "    )\n",
    "    print(\"L1:\", L1)\n",
    "    print(\"L2:\", L2)\n",
    "    Ratio = forward_term_rate_ratio(\n",
    "        r=r, accr_start=3., accr_length=0.25, dt = 1e-4\n",
    "    )\n",
    "    print(\"Method 1 result:\", (L1/L2).mean())\n",
    "    print(\"Method 2 result:\", Ratio.mean())\n",
    "    print(\"Total runtime:\", time.time() - start)"
   ]
  },
  {
   "cell_type": "markdown",
   "metadata": {},
   "source": [
    "### from Main.py"
   ]
  },
  {
   "cell_type": "code",
   "execution_count": 35,
   "metadata": {
    "scrolled": false
   },
   "outputs": [
    {
     "name": "stderr",
     "output_type": "stream",
     "text": [
      "/Users/zoeyzheng/opt/anaconda3/lib/python3.8/site-packages/openpyxl/styles/stylesheet.py:226: UserWarning: Workbook contains no default style, apply openpyxl's default\n",
      "  warn(\"Workbook contains no default style, apply openpyxl's default\")\n"
     ]
    },
    {
     "name": "stdout",
     "output_type": "stream",
     "text": [
      "[*********************100%%**********************]  1 of 1 completed\n",
      "[*********************100%%**********************]  1 of 1 completed\n",
      "Model: cir\n",
      "Parameters at t=0:\n",
      "\ta = 0.03480908015857514\n",
      "\tb = 0.026642822968540838\n",
      "\tsigma = 0.00010430098309434862\n",
      "Parameters at t=T:\n",
      "\ta = 0.01518078156100891\n",
      "\tb = 0.0006604047861360866\n",
      "\tsigma = 0.0002065558596481927\n",
      "R0: 0.024361111111111115\n",
      "E[RT]: 0.02458696728780192\n",
      "L_ratio mean: 0.9977419042131941\n",
      "quanto_ratio mean: 1.0248004066433152\n",
      "Average bond price p(0,T): 0.9291124529892333\n",
      "Claim price (std): 0.0002172350389751047 (0.000394680499419636)\n"
     ]
    }
   ],
   "source": [
    " def main(\n",
    "    model=\"vasicek\", \n",
    "    N=1, k=1, kprime=1,n=100000, dt=1/252, \n",
    "    T=3, Delta=0.25,\n",
    "    loud=True, ma_w = 90\n",
    "):\n",
    "    # read daily sofr rates data\n",
    "    sofr = read_sofr(ma_w = 90, ma=True)\n",
    "    \n",
    "    # calibrate model for both t=0, t=T\n",
    "    # parameter at t=0, using one year to calibrate\n",
    "    a0, b0, sigma0 = calibrate(df=sofr, model=model, W=252).iloc[-1].values\n",
    "    # expected parameter at t=T, using five years to calibrate\n",
    "    # assume parameters' long term behavior converges to historical trend\n",
    "    aT, bT, sigmaT = calibrate(df=sofr, model=model, W=len(sofr)).iloc[-1].values\n",
    "    # extract last sofr observation as r0\n",
    "    r0 = sofr.loc[len(sofr), \"r\"]\n",
    "\n",
    "    # simulate [0,T] using params at t=0\n",
    "    sample_0 = sim_short_rate(kind=model, a=a0, b=b0, sigma=sigma0, n=n,T=T+Delta, dt=dt, r0=r0)\n",
    "    # extract simulated r(T) average as r(T) for simulating [T,T+Delta]\n",
    "    ErT = sample_0.mean(axis=0)[int(T/dt)-1]\n",
    "    # simulate [T,T+Delta] using params at t=T\n",
    "    sample_T = sim_short_rate(kind=model, a=aT, b=bT, sigma=sigmaT, n=n,T=Delta, dt=dt, r0=ErT)\n",
    "\n",
    "    # using simulate short rate sample paths, transform to term rates\n",
    "    L0 = forward_term_rate(\n",
    "        r=sample_0, t=0., accr_start=T, accr_length=Delta, dt=dt\n",
    "    )\n",
    "    LT = forward_term_rate(\n",
    "        r=sample_T, t=(T-T), accr_start=(T-T), accr_length=Delta, dt=dt\n",
    "    )\n",
    "    # obtain term rate ratio\n",
    "    L_ratio = (LT/L0)\n",
    "\n",
    "    # calibrate quanto using data from yfinance\n",
    "    sigma_s = calibrate_quanto()\n",
    "\n",
    "    # using calibrate quanto volatility, simulate quanto value\n",
    "    # use only short rate in [0,T]\n",
    "    r_d = sample_0[:,:int(T/dt+1)]\n",
    "    quanto_ratio = eval_quanto(r_d=r_d, sigma_s=sigma_s,dt=dt)\n",
    "\n",
    "    # finally, evaluate T-claim\n",
    "    # T-claim: N*max[0, (k-quanto_ratio)*(L_ratio-kprime)]\n",
    "\n",
    "    # stochastic discount factor\n",
    "    discount = bond_price(r_d, t=0, maturity=T,dt=dt)\n",
    "\n",
    "    claim = discount * N * np.maximum(\n",
    "        (k - quanto_ratio) * (L_ratio - kprime), 0\n",
    "    )\n",
    "    info = a0, b0, sigma0, aT, bT,sigmaT,r0,ErT, L_ratio.mean(), quanto_ratio.mean(),discount.mean()\n",
    "    return claim, sample_T, sample_0, info\n",
    "\n",
    "\n",
    "claim_cir, sample_T_cir, sample_0_cir,info_cir = main(\n",
    "    model=\"cir\", N=1,k=1,kprime=1,n=100000,dt=1/252,\n",
    "    T=3, Delta=0.25, loud =True\n",
    ")\n",
    "a0, b0, sigma0, aT, bT,sigmaT,r0,ErT, L_ratio_mean, quanto_ratio_mean,discount_mean = info_cir\n",
    "print(\"Model:\", \"cir\")\n",
    "print(f\"Parameters at t=0:\")\n",
    "print(f\"\\ta = {a0}\")\n",
    "print(f\"\\tb = {b0}\")\n",
    "print(f\"\\tsigma = {sigma0}\")\n",
    "print(f\"Parameters at t=T:\")\n",
    "print(f\"\\ta = {aT}\")\n",
    "print(f\"\\tb = {bT}\")\n",
    "print(f\"\\tsigma = {sigmaT}\")\n",
    "print(\"R0:\", r0)\n",
    "print(\"E[RT]:\", ErT)\n",
    "print(\"L_ratio mean:\", L_ratio_mean)\n",
    "print(\"quanto_ratio mean:\", quanto_ratio_mean)\n",
    "print(\"Average bond price p(0,T):\", discount_mean)\n",
    "\n",
    "print(\"Claim price (std):\", f\"{claim_cir.mean()} ({claim_cir.std()})\")\n",
    "        "
   ]
  },
  {
   "cell_type": "markdown",
   "metadata": {},
   "source": [
    "# compare cir and vasecik"
   ]
  },
  {
   "cell_type": "code",
   "execution_count": 36,
   "metadata": {},
   "outputs": [
    {
     "name": "stderr",
     "output_type": "stream",
     "text": [
      "/Users/zoeyzheng/opt/anaconda3/lib/python3.8/site-packages/openpyxl/styles/stylesheet.py:226: UserWarning: Workbook contains no default style, apply openpyxl's default\n",
      "  warn(\"Workbook contains no default style, apply openpyxl's default\")\n"
     ]
    },
    {
     "name": "stdout",
     "output_type": "stream",
     "text": [
      "[*********************100%%**********************]  1 of 1 completed\n",
      "[*********************100%%**********************]  1 of 1 completed\n",
      "Model: vasicek\n",
      "Parameters at t=0:\n",
      "\ta = 2.3103984692044075\n",
      "\tb = 0.059068711012689644\n",
      "\tsigma = 0.0007068570821635202\n",
      "Parameters at t=T:\n",
      "\ta = 0.44995852794684377\n",
      "\tb = 0.0011103864184346228\n",
      "\tsigma = 0.001516950276625044\n",
      "R0: 0.024361111111111115\n",
      "E[RT]: 0.02556511576451714\n",
      "L_ratio mean: 0.9501669938802697\n",
      "quanto_ratio mean: 1.0273463104639542\n",
      "Average bond price p(0,T): 0.9265558356111335\n",
      "Claim price (std): 0.004797086969106745 (0.008198605095933936)\n"
     ]
    }
   ],
   "source": [
    "claim_vas, sample_T_vas, sample_0_vas, info_vas = main(\n",
    "    model=\"vasicek\", N=1,k=1,kprime=1,n=100000,dt=1/252,\n",
    "    T=3, Delta=0.25, loud =True\n",
    ")\n",
    "a0, b0, sigma0, aT, bT,sigmaT,r0,ErT, L_ratio_mean, quanto_ratio_mean,discount_mean = info_vas\n",
    "print(\"Model:\", \"vasicek\")\n",
    "print(f\"Parameters at t=0:\")\n",
    "print(f\"\\ta = {a0}\")\n",
    "print(f\"\\tb = {b0}\")\n",
    "print(f\"\\tsigma = {sigma0}\")\n",
    "print(f\"Parameters at t=T:\")\n",
    "print(f\"\\ta = {aT}\")\n",
    "print(f\"\\tb = {bT}\")\n",
    "print(f\"\\tsigma = {sigmaT}\")\n",
    "print(\"R0:\", r0)\n",
    "print(\"E[RT]:\", ErT)\n",
    "print(\"L_ratio mean:\", L_ratio_mean)\n",
    "print(\"quanto_ratio mean:\", quanto_ratio_mean)\n",
    "print(\"Average bond price p(0,T):\", discount_mean)\n",
    "\n",
    "print(\"Claim price (std):\", f\"{claim_vas.mean()} ({claim_vas.std()})\")"
   ]
  },
  {
   "cell_type": "code",
   "execution_count": 37,
   "metadata": {},
   "outputs": [
    {
     "data": {
      "text/html": [
       "<div>\n",
       "<style scoped>\n",
       "    .dataframe tbody tr th:only-of-type {\n",
       "        vertical-align: middle;\n",
       "    }\n",
       "\n",
       "    .dataframe tbody tr th {\n",
       "        vertical-align: top;\n",
       "    }\n",
       "\n",
       "    .dataframe thead th {\n",
       "        text-align: right;\n",
       "    }\n",
       "</style>\n",
       "<table border=\"1\" class=\"dataframe\">\n",
       "  <thead>\n",
       "    <tr style=\"text-align: right;\">\n",
       "      <th></th>\n",
       "      <th>cir</th>\n",
       "      <th>vasicek</th>\n",
       "    </tr>\n",
       "  </thead>\n",
       "  <tbody>\n",
       "    <tr>\n",
       "      <th>Claim price</th>\n",
       "      <td>0.000217</td>\n",
       "      <td>0.004797</td>\n",
       "    </tr>\n",
       "    <tr>\n",
       "      <th>Claim std</th>\n",
       "      <td>0.000395</td>\n",
       "      <td>0.008199</td>\n",
       "    </tr>\n",
       "  </tbody>\n",
       "</table>\n",
       "</div>"
      ],
      "text/plain": [
       "                  cir   vasicek\n",
       "Claim price  0.000217  0.004797\n",
       "Claim std    0.000395  0.008199"
      ]
     },
     "execution_count": 37,
     "metadata": {},
     "output_type": "execute_result"
    }
   ],
   "source": [
    "## create a table for result display \n",
    "model_comp = pd.DataFrame(columns=[\"cir\", \"vasicek\"],\n",
    "                          index=[\"Claim price\", \"Claim std\"])\n",
    "model_comp[\"cir\"][\"Claim price\"] = claim_cir.mean()\n",
    "model_comp[\"cir\"][\"Claim std\"] = claim_cir.std()\n",
    "model_comp[\"vasicek\"][\"Claim price\"] = claim_vas.mean()\n",
    "model_comp[\"vasicek\"][\"Claim std\"] = claim_vas.std()\n",
    "model_comp"
   ]
  },
  {
   "cell_type": "markdown",
   "metadata": {},
   "source": [
    "# Compare resuls with different k and k'"
   ]
  },
  {
   "cell_type": "code",
   "execution_count": 38,
   "metadata": {},
   "outputs": [
    {
     "name": "stderr",
     "output_type": "stream",
     "text": [
      "/Users/zoeyzheng/opt/anaconda3/lib/python3.8/site-packages/openpyxl/styles/stylesheet.py:226: UserWarning: Workbook contains no default style, apply openpyxl's default\n",
      "  warn(\"Workbook contains no default style, apply openpyxl's default\")\n"
     ]
    },
    {
     "name": "stdout",
     "output_type": "stream",
     "text": [
      "[*********************100%%**********************]  1 of 1 completed\n",
      "[*********************100%%**********************]  1 of 1 completed\n"
     ]
    },
    {
     "name": "stderr",
     "output_type": "stream",
     "text": [
      "/Users/zoeyzheng/opt/anaconda3/lib/python3.8/site-packages/openpyxl/styles/stylesheet.py:226: UserWarning: Workbook contains no default style, apply openpyxl's default\n",
      "  warn(\"Workbook contains no default style, apply openpyxl's default\")\n"
     ]
    },
    {
     "name": "stdout",
     "output_type": "stream",
     "text": [
      "[*********************100%%**********************]  1 of 1 completed\n",
      "[*********************100%%**********************]  1 of 1 completed\n"
     ]
    },
    {
     "name": "stderr",
     "output_type": "stream",
     "text": [
      "/Users/zoeyzheng/opt/anaconda3/lib/python3.8/site-packages/openpyxl/styles/stylesheet.py:226: UserWarning: Workbook contains no default style, apply openpyxl's default\n",
      "  warn(\"Workbook contains no default style, apply openpyxl's default\")\n"
     ]
    },
    {
     "name": "stdout",
     "output_type": "stream",
     "text": [
      "[*********************100%%**********************]  1 of 1 completed\n",
      "[*********************100%%**********************]  1 of 1 completed\n"
     ]
    },
    {
     "name": "stderr",
     "output_type": "stream",
     "text": [
      "/Users/zoeyzheng/opt/anaconda3/lib/python3.8/site-packages/openpyxl/styles/stylesheet.py:226: UserWarning: Workbook contains no default style, apply openpyxl's default\n",
      "  warn(\"Workbook contains no default style, apply openpyxl's default\")\n"
     ]
    },
    {
     "name": "stdout",
     "output_type": "stream",
     "text": [
      "[*********************100%%**********************]  1 of 1 completed\n",
      "[*********************100%%**********************]  1 of 1 completed\n"
     ]
    },
    {
     "name": "stderr",
     "output_type": "stream",
     "text": [
      "/Users/zoeyzheng/opt/anaconda3/lib/python3.8/site-packages/openpyxl/styles/stylesheet.py:226: UserWarning: Workbook contains no default style, apply openpyxl's default\n",
      "  warn(\"Workbook contains no default style, apply openpyxl's default\")\n"
     ]
    },
    {
     "name": "stdout",
     "output_type": "stream",
     "text": [
      "[*********************100%%**********************]  1 of 1 completed\n",
      "[*********************100%%**********************]  1 of 1 completed\n"
     ]
    },
    {
     "name": "stderr",
     "output_type": "stream",
     "text": [
      "/Users/zoeyzheng/opt/anaconda3/lib/python3.8/site-packages/openpyxl/styles/stylesheet.py:226: UserWarning: Workbook contains no default style, apply openpyxl's default\n",
      "  warn(\"Workbook contains no default style, apply openpyxl's default\")\n"
     ]
    },
    {
     "name": "stdout",
     "output_type": "stream",
     "text": [
      "[*********************100%%**********************]  1 of 1 completed\n",
      "[*********************100%%**********************]  1 of 1 completed\n"
     ]
    },
    {
     "name": "stderr",
     "output_type": "stream",
     "text": [
      "/Users/zoeyzheng/opt/anaconda3/lib/python3.8/site-packages/openpyxl/styles/stylesheet.py:226: UserWarning: Workbook contains no default style, apply openpyxl's default\n",
      "  warn(\"Workbook contains no default style, apply openpyxl's default\")\n"
     ]
    },
    {
     "name": "stdout",
     "output_type": "stream",
     "text": [
      "[*********************100%%**********************]  1 of 1 completed\n",
      "[*********************100%%**********************]  1 of 1 completed\n"
     ]
    },
    {
     "name": "stderr",
     "output_type": "stream",
     "text": [
      "/Users/zoeyzheng/opt/anaconda3/lib/python3.8/site-packages/openpyxl/styles/stylesheet.py:226: UserWarning: Workbook contains no default style, apply openpyxl's default\n",
      "  warn(\"Workbook contains no default style, apply openpyxl's default\")\n"
     ]
    },
    {
     "name": "stdout",
     "output_type": "stream",
     "text": [
      "[*********************100%%**********************]  1 of 1 completed\n",
      "[*********************100%%**********************]  1 of 1 completed\n"
     ]
    },
    {
     "name": "stderr",
     "output_type": "stream",
     "text": [
      "/Users/zoeyzheng/opt/anaconda3/lib/python3.8/site-packages/openpyxl/styles/stylesheet.py:226: UserWarning: Workbook contains no default style, apply openpyxl's default\n",
      "  warn(\"Workbook contains no default style, apply openpyxl's default\")\n"
     ]
    },
    {
     "name": "stdout",
     "output_type": "stream",
     "text": [
      "[*********************100%%**********************]  1 of 1 completed\n",
      "[*********************100%%**********************]  1 of 1 completed\n"
     ]
    },
    {
     "data": {
      "text/html": [
       "<div>\n",
       "<style scoped>\n",
       "    .dataframe tbody tr th:only-of-type {\n",
       "        vertical-align: middle;\n",
       "    }\n",
       "\n",
       "    .dataframe tbody tr th {\n",
       "        vertical-align: top;\n",
       "    }\n",
       "\n",
       "    .dataframe thead th {\n",
       "        text-align: right;\n",
       "    }\n",
       "</style>\n",
       "<table border=\"1\" class=\"dataframe\">\n",
       "  <thead>\n",
       "    <tr style=\"text-align: right;\">\n",
       "      <th></th>\n",
       "      <th>k , k'</th>\n",
       "      <th>claim price</th>\n",
       "      <th>std</th>\n",
       "    </tr>\n",
       "  </thead>\n",
       "  <tbody>\n",
       "    <tr>\n",
       "      <th>0</th>\n",
       "      <td>k = 1, k' = 1</td>\n",
       "      <td>0.000217</td>\n",
       "      <td>0.000393</td>\n",
       "    </tr>\n",
       "    <tr>\n",
       "      <th>1</th>\n",
       "      <td>k = 1, k' = 0</td>\n",
       "      <td>0.072512</td>\n",
       "      <td>0.100562</td>\n",
       "    </tr>\n",
       "    <tr>\n",
       "      <th>2</th>\n",
       "      <td>k = 0, k' = 1</td>\n",
       "      <td>0.00216</td>\n",
       "      <td>0.001214</td>\n",
       "    </tr>\n",
       "    <tr>\n",
       "      <th>3</th>\n",
       "      <td>k = 1, k' = 2</td>\n",
       "      <td>0.095349</td>\n",
       "      <td>0.148513</td>\n",
       "    </tr>\n",
       "    <tr>\n",
       "      <th>4</th>\n",
       "      <td>k = 2, k' = 1</td>\n",
       "      <td>0.000011</td>\n",
       "      <td>0.000092</td>\n",
       "    </tr>\n",
       "    <tr>\n",
       "      <th>5</th>\n",
       "      <td>k = 0, k' = 0</td>\n",
       "      <td>0.0</td>\n",
       "      <td>0.0</td>\n",
       "    </tr>\n",
       "    <tr>\n",
       "      <th>6</th>\n",
       "      <td>k = 2, k' = 2</td>\n",
       "      <td>0.000116</td>\n",
       "      <td>0.005655</td>\n",
       "    </tr>\n",
       "    <tr>\n",
       "      <th>7</th>\n",
       "      <td>k = 0, k' = 2</td>\n",
       "      <td>0.953713</td>\n",
       "      <td>0.214585</td>\n",
       "    </tr>\n",
       "    <tr>\n",
       "      <th>8</th>\n",
       "      <td>k = 2, k' = 0</td>\n",
       "      <td>0.904119</td>\n",
       "      <td>0.214728</td>\n",
       "    </tr>\n",
       "  </tbody>\n",
       "</table>\n",
       "</div>"
      ],
      "text/plain": [
       "         k , k'  claim price       std\n",
       "0  k = 1, k' = 1    0.000217  0.000393\n",
       "1  k = 1, k' = 0    0.072512  0.100562\n",
       "2  k = 0, k' = 1     0.00216  0.001214\n",
       "3  k = 1, k' = 2    0.095349  0.148513\n",
       "4  k = 2, k' = 1    0.000011  0.000092\n",
       "5  k = 0, k' = 0         0.0       0.0\n",
       "6  k = 2, k' = 2    0.000116  0.005655\n",
       "7  k = 0, k' = 2    0.953713  0.214585\n",
       "8  k = 2, k' = 0    0.904119  0.214728"
      ]
     },
     "execution_count": 38,
     "metadata": {},
     "output_type": "execute_result"
    }
   ],
   "source": [
    "kkps =[[1,1],[1,0],[0,1],[1,2],[2,1],[0,0],[2,2],[0,2],[2,0]]\n",
    "price_wrt_ks = pd.DataFrame(columns=[\"k , k' \", \"claim price\", \"std\" ],index=range(0,len(kkps)))\n",
    "prices = pd.DataFrame(columns = range(0,3), index = range(0,3))\n",
    "for i in range(len(kkps)):\n",
    "    kkp = kkps[i]\n",
    "    claim_vas, sample_T_vas, sample_0_vas, info_vas = main(\n",
    "    model=\"cir\", N=1,k=kkp[0],kprime=kkp[1],n=100000,dt=1/252,\n",
    "    T=3, Delta=0.25, loud =True)\n",
    "    a0, b0, sigma0, aT, bT,sigmaT,r0,ErT, L_ratio_mean, quanto_ratio_mean,discount_mean = info_vas\n",
    "    price_wrt_ks[\"k , k' \"][i] = \"k = \" + str(kkp[0]) + \", k' = \" + str(str(kkp[1]))\n",
    "    price_wrt_ks[\"claim price\"][i] = claim_vas.mean()\n",
    "    price_wrt_ks[\"std\"][i] = claim_vas.std()\n",
    "    prices[kkp[1]][kkp[0]] = claim_vas.mean()\n",
    "price_wrt_ks"
   ]
  },
  {
   "cell_type": "code",
   "execution_count": 39,
   "metadata": {},
   "outputs": [
    {
     "data": {
      "text/html": [
       "<div>\n",
       "<style scoped>\n",
       "    .dataframe tbody tr th:only-of-type {\n",
       "        vertical-align: middle;\n",
       "    }\n",
       "\n",
       "    .dataframe tbody tr th {\n",
       "        vertical-align: top;\n",
       "    }\n",
       "\n",
       "    .dataframe thead th {\n",
       "        text-align: right;\n",
       "    }\n",
       "</style>\n",
       "<table border=\"1\" class=\"dataframe\">\n",
       "  <thead>\n",
       "    <tr style=\"text-align: right;\">\n",
       "      <th></th>\n",
       "      <th>claim price</th>\n",
       "      <th>std</th>\n",
       "    </tr>\n",
       "    <tr>\n",
       "      <th>k , k'</th>\n",
       "      <th></th>\n",
       "      <th></th>\n",
       "    </tr>\n",
       "  </thead>\n",
       "  <tbody>\n",
       "    <tr>\n",
       "      <th>k = 0, k' = 0</th>\n",
       "      <td>0.0</td>\n",
       "      <td>0.0</td>\n",
       "    </tr>\n",
       "    <tr>\n",
       "      <th>k = 2, k' = 1</th>\n",
       "      <td>0.000011</td>\n",
       "      <td>0.000092</td>\n",
       "    </tr>\n",
       "    <tr>\n",
       "      <th>k = 2, k' = 2</th>\n",
       "      <td>0.000116</td>\n",
       "      <td>0.005655</td>\n",
       "    </tr>\n",
       "    <tr>\n",
       "      <th>k = 1, k' = 1</th>\n",
       "      <td>0.000217</td>\n",
       "      <td>0.000393</td>\n",
       "    </tr>\n",
       "    <tr>\n",
       "      <th>k = 0, k' = 1</th>\n",
       "      <td>0.00216</td>\n",
       "      <td>0.001214</td>\n",
       "    </tr>\n",
       "    <tr>\n",
       "      <th>k = 1, k' = 0</th>\n",
       "      <td>0.072512</td>\n",
       "      <td>0.100562</td>\n",
       "    </tr>\n",
       "    <tr>\n",
       "      <th>k = 1, k' = 2</th>\n",
       "      <td>0.095349</td>\n",
       "      <td>0.148513</td>\n",
       "    </tr>\n",
       "    <tr>\n",
       "      <th>k = 2, k' = 0</th>\n",
       "      <td>0.904119</td>\n",
       "      <td>0.214728</td>\n",
       "    </tr>\n",
       "    <tr>\n",
       "      <th>k = 0, k' = 2</th>\n",
       "      <td>0.953713</td>\n",
       "      <td>0.214585</td>\n",
       "    </tr>\n",
       "  </tbody>\n",
       "</table>\n",
       "</div>"
      ],
      "text/plain": [
       "              claim price       std\n",
       "k , k'                             \n",
       "k = 0, k' = 0         0.0       0.0\n",
       "k = 2, k' = 1    0.000011  0.000092\n",
       "k = 2, k' = 2    0.000116  0.005655\n",
       "k = 1, k' = 1    0.000217  0.000393\n",
       "k = 0, k' = 1     0.00216  0.001214\n",
       "k = 1, k' = 0    0.072512  0.100562\n",
       "k = 1, k' = 2    0.095349  0.148513\n",
       "k = 2, k' = 0    0.904119  0.214728\n",
       "k = 0, k' = 2    0.953713  0.214585"
      ]
     },
     "execution_count": 39,
     "metadata": {},
     "output_type": "execute_result"
    }
   ],
   "source": [
    "price_wrt_ks.sort_values(by=['claim price']).set_index(\"k , k' \")"
   ]
  },
  {
   "cell_type": "markdown",
   "metadata": {},
   "source": [
    "# TODO: compare different rolling window length"
   ]
  },
  {
   "cell_type": "code",
   "execution_count": 40,
   "metadata": {},
   "outputs": [
    {
     "name": "stderr",
     "output_type": "stream",
     "text": [
      "/Users/zoeyzheng/opt/anaconda3/lib/python3.8/site-packages/openpyxl/styles/stylesheet.py:226: UserWarning: Workbook contains no default style, apply openpyxl's default\n",
      "  warn(\"Workbook contains no default style, apply openpyxl's default\")\n"
     ]
    },
    {
     "name": "stdout",
     "output_type": "stream",
     "text": [
      "[*********************100%%**********************]  1 of 1 completed\n",
      "[*********************100%%**********************]  1 of 1 completed\n"
     ]
    },
    {
     "name": "stderr",
     "output_type": "stream",
     "text": [
      "/Users/zoeyzheng/opt/anaconda3/lib/python3.8/site-packages/openpyxl/styles/stylesheet.py:226: UserWarning: Workbook contains no default style, apply openpyxl's default\n",
      "  warn(\"Workbook contains no default style, apply openpyxl's default\")\n"
     ]
    },
    {
     "name": "stdout",
     "output_type": "stream",
     "text": [
      "[*********************100%%**********************]  1 of 1 completed\n",
      "[*********************100%%**********************]  1 of 1 completed\n"
     ]
    },
    {
     "name": "stderr",
     "output_type": "stream",
     "text": [
      "/Users/zoeyzheng/opt/anaconda3/lib/python3.8/site-packages/openpyxl/styles/stylesheet.py:226: UserWarning: Workbook contains no default style, apply openpyxl's default\n",
      "  warn(\"Workbook contains no default style, apply openpyxl's default\")\n"
     ]
    },
    {
     "name": "stdout",
     "output_type": "stream",
     "text": [
      "[*********************100%%**********************]  1 of 1 completed\n",
      "[*********************100%%**********************]  1 of 1 completed\n"
     ]
    },
    {
     "name": "stderr",
     "output_type": "stream",
     "text": [
      "/Users/zoeyzheng/opt/anaconda3/lib/python3.8/site-packages/openpyxl/styles/stylesheet.py:226: UserWarning: Workbook contains no default style, apply openpyxl's default\n",
      "  warn(\"Workbook contains no default style, apply openpyxl's default\")\n"
     ]
    },
    {
     "name": "stdout",
     "output_type": "stream",
     "text": [
      "[*********************100%%**********************]  1 of 1 completed\n",
      "[*********************100%%**********************]  1 of 1 completed\n"
     ]
    },
    {
     "data": {
      "text/html": [
       "<div>\n",
       "<style scoped>\n",
       "    .dataframe tbody tr th:only-of-type {\n",
       "        vertical-align: middle;\n",
       "    }\n",
       "\n",
       "    .dataframe tbody tr th {\n",
       "        vertical-align: top;\n",
       "    }\n",
       "\n",
       "    .dataframe thead th {\n",
       "        text-align: right;\n",
       "    }\n",
       "</style>\n",
       "<table border=\"1\" class=\"dataframe\">\n",
       "  <thead>\n",
       "    <tr style=\"text-align: right;\">\n",
       "      <th></th>\n",
       "      <th>moving average window</th>\n",
       "      <th>claim price</th>\n",
       "      <th>std</th>\n",
       "    </tr>\n",
       "  </thead>\n",
       "  <tbody>\n",
       "    <tr>\n",
       "      <th>0</th>\n",
       "      <td>30</td>\n",
       "      <td>0.904178</td>\n",
       "      <td>0.213444</td>\n",
       "    </tr>\n",
       "    <tr>\n",
       "      <th>1</th>\n",
       "      <td>90</td>\n",
       "      <td>0.904504</td>\n",
       "      <td>0.21373</td>\n",
       "    </tr>\n",
       "    <tr>\n",
       "      <th>2</th>\n",
       "      <td>180</td>\n",
       "      <td>0.905695</td>\n",
       "      <td>0.212996</td>\n",
       "    </tr>\n",
       "    <tr>\n",
       "      <th>3</th>\n",
       "      <td>360</td>\n",
       "      <td>0.903351</td>\n",
       "      <td>0.213763</td>\n",
       "    </tr>\n",
       "  </tbody>\n",
       "</table>\n",
       "</div>"
      ],
      "text/plain": [
       "  moving average window claim price       std\n",
       "0                    30    0.904178  0.213444\n",
       "1                    90    0.904504   0.21373\n",
       "2                   180    0.905695  0.212996\n",
       "3                   360    0.903351  0.213763"
      ]
     },
     "execution_count": 40,
     "metadata": {},
     "output_type": "execute_result"
    }
   ],
   "source": [
    "ma_ws = [30, 90, 180, 360]\n",
    "prices_ma = pd.DataFrame(columns=[\"moving average window\", \"claim price\", \"std\" ], index = range(len(ma_ws)))\n",
    "for i in range(len(ma_ws)):\n",
    "    ma_w = ma_ws[i]\n",
    "    claim_vas, sample_T_vas, sample_0_vas, info_vas = main(\n",
    "    model=\"cir\", N=1,k=kkp[0],kprime=kkp[1],n=100000,dt=1/252,\n",
    "    T=3, Delta=0.25, loud =True, ma_w = ma_w)\n",
    "    a0, b0, sigma0, aT, bT,sigmaT,r0,ErT, L_ratio_mean, quanto_ratio_mean,discount_mean = info_vas\n",
    "    prices_ma[\"moving average window\"][i] = ma_w\n",
    "    prices_ma[\"claim price\"][i] = claim_vas.mean()\n",
    "    prices_ma[\"std\"][i] = claim_vas.std()\n",
    "prices_ma"
   ]
  },
  {
   "cell_type": "code",
   "execution_count": null,
   "metadata": {},
   "outputs": [],
   "source": []
  }
 ],
 "metadata": {
  "kernelspec": {
   "display_name": "Python 3",
   "language": "python",
   "name": "python3"
  },
  "language_info": {
   "codemirror_mode": {
    "name": "ipython",
    "version": 3
   },
   "file_extension": ".py",
   "mimetype": "text/x-python",
   "name": "python",
   "nbconvert_exporter": "python",
   "pygments_lexer": "ipython3",
   "version": "3.8.5"
  }
 },
 "nbformat": 4,
 "nbformat_minor": 2
}
